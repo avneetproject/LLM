{
 "cells": [
  {
   "cell_type": "code",
   "execution_count": 54,
   "id": "b3e16e41",
   "metadata": {},
   "outputs": [],
   "source": [
    "import os\n",
    "import requests\n",
    "from dotenv import load_dotenv\n",
    "from bs4 import BeautifulSoup\n",
    "from openai import OpenAI"
   ]
  },
  {
   "cell_type": "code",
   "execution_count": null,
   "id": "2abedc4e",
   "metadata": {},
   "outputs": [],
   "source": [
    "load_dotenv(override=True)\n",
    "client = os.getenv('OPENAI_API_KEY')\n",
    "\n",
    "if client:\n",
    "    print(f\"OpenAI API Key exists and begins {client[:8]}\")\n",
    "else:\n",
    "    print(\"OpenAI API Key not set\")"
   ]
  },
  {
   "cell_type": "code",
   "execution_count": 78,
   "id": "8e8e7bde",
   "metadata": {},
   "outputs": [],
   "source": [
    "def get_security_news():\n",
    "    url = \"https://news.google.com/rss/search?q=security+error+threat+phishing\"\n",
    "    res = requests.get(url)\n",
    "    soup = BeautifulSoup(res.content, \"xml\")\n",
    "    items = soup.find_all(\"item\")\n",
    "    return [(i.title.text, i.link.text) for i in items[:5]]"
   ]
  },
  {
   "cell_type": "code",
   "execution_count": 75,
   "id": "833b07a3-ed74-45e1-a678-3823296b9857",
   "metadata": {},
   "outputs": [],
   "source": [
    "openai = OpenAI()"
   ]
  },
  {
   "cell_type": "code",
   "execution_count": 79,
   "id": "2da68151",
   "metadata": {},
   "outputs": [],
   "source": [
    "def summarize_article(article_text):\n",
    "    response = openai.chat.completions.create(\n",
    "        model=\"gpt-5-nano\",\n",
    "        messages=[\n",
    "            {\"role\": \"system\", \"content\": \"You are a cybersecurity analyst.\"},\n",
    "            {\"role\": \"user\", \"content\": f\"Summarize this article focusing on the security incident short:\\n\\n{article_text}\"}\n",
    "        ]\n",
    "    )\n",
    "    return response.choices[0].message.content"
   ]
  },
  {
   "cell_type": "code",
   "execution_count": 80,
   "id": "2e0e9174-54c1-46ce-b28b-e35c1448135e",
   "metadata": {},
   "outputs": [
    {
     "name": "stdout",
     "output_type": "stream",
     "text": [
      "Summary:\n",
      " A misconfigured server exposed customer data at a major tech company; security researchers detected the exposure, the company confirmed it yesterday, and no financial information was leaked.\n"
     ]
    }
   ],
   "source": [
    "# Call summarizer\n",
    "summary = summarize_article(article_text)\n",
    "print(\"Summary:\\n\", summary)\n"
   ]
  },
  {
   "cell_type": "code",
   "execution_count": 59,
   "id": "85cbc89e",
   "metadata": {},
   "outputs": [],
   "source": [
    "def generate_pitch(summary):\n",
    "    response = openai.chat.completions.create(\n",
    "        model=\"gpt-5-nano\",\n",
    "        messages=[\n",
    "            {\"role\": \"system\", \"content\": \"You are a cybersecurity marketing assistant.\"},\n",
    "            {\"role\": \"user\", \"content\": f\"Write a brief LinkedIn-style post explaining this security incident and how Descope helps prevent such problems:\\n\\n{summary}\"}\n",
    "        ]\n",
    "    )\n",
    "    return response.choices[0].message.content"
   ]
  },
  {
   "cell_type": "code",
   "execution_count": 36,
   "id": "ab0194d9-7684-443c-bb1d-9ea8e5fea3c3",
   "metadata": {},
   "outputs": [
    {
     "name": "stdout",
     "output_type": "stream",
     "text": [
      "Security incident reminder: A misconfigured server exposed customer data. The exposure was detected by security researchers and confirmed by the company yesterday. No financial information was leaked, but this shows how quickly sensitive data can be exposed when cloud/configuration controls aren’t tight enough.\n",
      "\n",
      "What happened and why it matters\n",
      "- A server was misconfigured, creating a pathway to customer data.\n",
      "- Detection came from independent researchers and the company validated it yesterday.\n",
      "- Impact: customer data was exposed; financial information remained safe. This highlights the ongoing risk from misconfigurations and the importance of robust access controls and continuous monitoring.\n",
      "\n",
      "How Descope helps prevent these problems\n",
      "- Identity-first, zero-trust access to data and apps\n",
      "  - Access decisions are driven by who the user is, their device, location, and risk context, not just IPs or static permissions.\n",
      "- Adaptive, risk-based authentication\n",
      "  - Step-up MFA and additional verification when risk signals are high, reducing the chance of unauthorized data access.\n",
      "- Fine-grained, policy-driven access\n",
      "  - Least-privilege access by design, with role-based and attribute-based controls to ensure users only see what they need.\n",
      "- Passwordless and short-lived credentials\n",
      "  - Reduces the risk from long-lived credentials that can be compromised or leaked.\n",
      "- Continuous monitoring and anomaly detection\n",
      "  - Real-time alerts for unusual access patterns and automated safeguards to contain threats fast.\n",
      "- Comprehensive auditability\n",
      "  - Centralized logs and traces for faster incident response and forensics.\n",
      "- Data access governance\n",
      "  - Built-in access reviews, approvals, and workflows to keep data access aligned with business needs.\n",
      "- Quick remediation and token revocation\n",
      "  - Immediate revocation of tokens and revocation of access when suspicious activity is detected.\n",
      "\n",
      "If you’re looking to harden your environment against misconfigurations and data exposure, let’s talk. Descope can help you enforce zero-trust, risk-based access across your apps and data. Comment below or DM to learn more. #Cybersecurity #ZeroTrust #Descope #IdentitySecurity #CloudSecurity #DataProtection\n"
     ]
    }
   ],
   "source": [
    "# Call pitch generator\n",
    "pitch = generate_pitch(summary)\n",
    "print(pitch)\n"
   ]
  },
  {
   "cell_type": "code",
   "execution_count": 82,
   "id": "47ff6080-a277-4375-be86-d7d111c568d1",
   "metadata": {},
   "outputs": [],
   "source": [
    "def email_pitch(summary):\n",
    "    response = openai.chat.completions.create(\n",
    "        model=\"gpt-5-nano\",\n",
    "        messages=[\n",
    "            {\"role\": \"system\", \"content\": \"You are a cybersecurity marketing assistant reaching out via email.\"},\n",
    "            {\"role\": \"user\", \"content\": f\"Write a brief marketing email to this company that we noticed this security error \\\n",
    "            how Descope helps prevent such problems \\\n",
    "            ask to reach out for a personal session:\\n\\n{summary}\"}\n",
    "        ]\n",
    "    )\n",
    "    return response.choices[0].message.content"
   ]
  },
  {
   "cell_type": "code",
   "execution_count": 83,
   "id": "3793cef7-6d67-4766-9177-c96163eed6d7",
   "metadata": {
    "scrolled": true
   },
   "outputs": [
    {
     "name": "stdout",
     "output_type": "stream",
     "text": [
      "Subject: Prevent misconfigurations from exposing data — quick personal session?\n",
      "\n",
      "Hello,\n",
      "\n",
      "We recently observed a high-profile incident where a misconfigured server exposed customer data at a major tech company. While no financial information was leaked, it underscores how quickly exposure can occur. At Descope, we help teams prevent these problems with an identity-first security approach.\n",
      "\n",
      "How Descope helps prevent this kind of risk:\n",
      "- Enforce least privilege with just-in-time access and automated access revocation\n",
      "- Remove passwords and reduce phishing with passwordless authentication\n",
      "- Contextual, adaptive access controls that protect sensitive data\n",
      "- Continuous monitoring of access patterns and automated remediation for misconfigurations\n",
      "- Seamless integration with your cloud, apps, and CI/CD stacks\n",
      "\n",
      "Would you be open to a brief personal session to review your current setup and discuss a tailored plan? I’d be happy to map practical steps to reduce exposure and align with your security goals.\n",
      "\n",
      "If yes, please reply with a couple of time slots or book a time here: [Schedule a session]\n",
      "\n",
      "Best regards,\n",
      "[Your Name]\n",
      "[Title]\n",
      "Descope\n"
     ]
    }
   ],
   "source": [
    "email_p = email_pitch(summary)\n",
    "print(email_p)"
   ]
  },
  {
   "cell_type": "code",
   "execution_count": 61,
   "id": "38092e29-92f9-41d8-b97f-e7e7d4f2e6a1",
   "metadata": {},
   "outputs": [],
   "source": [
    "def linkedin_pitch(summary):\n",
    "    response = openai.chat.completions.create(\n",
    "        model=\"gpt-5-nano\",\n",
    "        messages=[\n",
    "            {\"role\": \"system\", \"content\": \"You are a cybersecurity marketing assistant reaching out via email.\"},\n",
    "            {\"role\": \"user\", \"content\": f\"Write a concise linkedin reachout message to this company that we noticed this security error \\\n",
    "            how Descope helps prevent such problems \\\n",
    "            ask to reach out for a personal session:\\n\\n{summary}\"}\n",
    "        ]\n",
    "    )\n",
    "    return response.choices[0].message.content"
   ]
  },
  {
   "cell_type": "code",
   "execution_count": 51,
   "id": "34fc6d67-6b6c-48a1-89c6-8d9178c83012",
   "metadata": {},
   "outputs": [
    {
     "name": "stdout",
     "output_type": "stream",
     "text": [
      "Hi [Name], I noticed your team recently confirmed a misconfigured server exposing customer data (no financial data leaked). Descope helps prevent these issues with passwordless authentication, phishing-resistant MFA, and zero-trust access controls that enforce least privilege. If you’re open to it, I’d love to offer a quick personal session to tailor a security approach for your environment. Do you have 15 minutes this week?\n"
     ]
    }
   ],
   "source": [
    "linkedin = linkedin_pitch(summary)\n",
    "print(linkedin)"
   ]
  },
  {
   "cell_type": "code",
   "execution_count": 71,
   "id": "7373ff9c-f4f5-454b-9159-be785e8be4d4",
   "metadata": {},
   "outputs": [],
   "source": [
    "import gradio as gr\n",
    "def scrape_and_generate(api_key, url, message_type):\n",
    "    # Store API key in environment for use in your logic\n",
    "    os.environ[\"OPENAI_API_KEY\"] = api_key  \n",
    "\n",
    "    # # TODO: Replace with your scraping function\n",
    "    # scraped_data = f\"Scraped info from {url}\"  \n",
    "\n",
    "    # TODO: Replace with your message generation function\n",
    "    if message_type == \"LinkedIn message\":\n",
    "        message = linkedin\n",
    "    else:\n",
    "        message = email_p\n",
    "\n",
    "    return message"
   ]
  },
  {
   "cell_type": "code",
   "execution_count": null,
   "id": "509d132c-012e-4908-954e-695d1796a054",
   "metadata": {
    "scrolled": true
   },
   "outputs": [],
   "source": [
    "# --- Gradio UI ---\n",
    "\n",
    "with gr.Blocks() as demo:\n",
    "    gr.Markdown(\"# 🌐 Outreach Message Generator\")\n",
    "    gr.Markdown(\"Enter your API key, paste a website URL, and choose message type.\")\n",
    "\n",
    "    api_key = gr.Textbox(label=\"Enter your API Key\", type=\"password\")\n",
    "    message_type = gr.Dropdown([\"LinkedIn message\", \"Email\"], label=\"Message Type\")\n",
    "    \n",
    "    output = gr.Textbox(label=\"Generated Message\", lines=10)\n",
    "    submit_btn = gr.Button(\"Generate\")\n",
    "\n",
    "    submit_btn.click(scrape_and_generate, [api_key, url, message_type], output)\n",
    "\n",
    "demo.launch()"
   ]
  },
  {
   "cell_type": "code",
   "execution_count": null,
   "id": "fc78c21c-8974-4051-a847-b13df6cc72d7",
   "metadata": {},
   "outputs": [],
   "source": []
  }
 ],
 "metadata": {
  "kernelspec": {
   "display_name": "Python 3 (ipykernel)",
   "language": "python",
   "name": "python3"
  },
  "language_info": {
   "codemirror_mode": {
    "name": "ipython",
    "version": 3
   },
   "file_extension": ".py",
   "mimetype": "text/x-python",
   "name": "python",
   "nbconvert_exporter": "python",
   "pygments_lexer": "ipython3",
   "version": "3.11.13"
  }
 },
 "nbformat": 4,
 "nbformat_minor": 5
}
